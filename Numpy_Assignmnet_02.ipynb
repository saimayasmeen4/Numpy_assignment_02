{
  "nbformat": 4,
  "nbformat_minor": 0,
  "metadata": {
    "colab": {
      "name": "Numpy Assignmnet 02.ipynb",
      "provenance": [],
      "collapsed_sections": []
    },
    "kernelspec": {
      "name": "python3",
      "display_name": "Python 3"
    }
  },
  "cells": [
    {
      "cell_type": "markdown",
      "metadata": {
        "id": "G6BH1q-x6T-F"
      },
      "source": [
        "# Assignment **02** By PIAIC52926"
      ]
    },
    {
      "cell_type": "code",
      "metadata": {
        "id": "Bts9utkn6aon"
      },
      "source": [
        "#Name: Saima Yasmeen Batch AIC # 9 2020 RollNumber PIAIC52926"
      ],
      "execution_count": null,
      "outputs": []
    },
    {
      "cell_type": "code",
      "metadata": {
        "id": "gJN3bfxv6FZT"
      },
      "source": [
        "# Read Instructions carefully before attempting this assignment\r\n",
        "\r\n",
        "# 1) don't rename any function name\r\n",
        "# 2) don't rename any variable name\r\n",
        "# 3) don't remove any #comment \r\n",
        "# 4) don't remove \"\"\" under triple quate values \"\"\"\r\n",
        "# 5) you have to write code where you found \"write your code here\"\r\n",
        "# 6) after download rename this file with this format \"PIAICCompletRollNumber_AssignmentNo.py\"\r\n",
        "#   Example piaic17896_Assignment1.py\r\n",
        "# 7) After complete this assignment please push on your own GitHub repository.\r\n",
        "# 8) you can submit this assignment through the google form\r\n",
        "# 9) copy this file absolute URL then paste in the google form\r\n",
        "#  The example above: https://github.com/EnggQasim/Batch04_to_35/blob/main/Sunday/1_30%20to%203_30/Assignments/assignment1.txt\r\n",
        "\r\n",
        "# * Because all assignment we will be checked through software if you missed any above points "
      ],
      "execution_count": null,
      "outputs": []
    },
    {
      "cell_type": "code",
      "metadata": {
        "id": "DiUKFQ9W7CVU"
      },
      "source": [
        "import numpy as np"
      ],
      "execution_count": 1,
      "outputs": []
    },
    {
      "cell_type": "code",
      "metadata": {
        "colab": {
          "base_uri": "https://localhost:8080/"
        },
        "id": "cAnq4RrB7UKZ",
        "outputId": "f153d144-d5e3-4ae9-9c1b-4cc89fd6406f"
      },
      "source": [
        "# Task no 1\r\n",
        "def function1():\r\n",
        "    # create 2d array from 1,12 range \r\n",
        "    # dimension should be 6row 2 columns  \r\n",
        "    # and assign this array values in x values in x variable\r\n",
        "    # Hint: you can use arange and reshape numpy methods  \r\n",
        "    x =  np.arange(1,13).reshape((6,2)) \r\n",
        "\r\n",
        "    return x\r\n",
        "    \"\"\"\r\n",
        "    expected output:\r\n",
        "    [[ 1  2]\r\n",
        "    [ 3  4]\r\n",
        "    [ 5  6]\r\n",
        "    [ 7  8]\r\n",
        "    [ 9 10]\r\n",
        "    [11 12]]\r\n",
        "    \"\"\"\r\n",
        "print(function1())\r\n"
      ],
      "execution_count": 3,
      "outputs": [
        {
          "output_type": "stream",
          "text": [
            "[[ 1  2]\n",
            " [ 3  4]\n",
            " [ 5  6]\n",
            " [ 7  8]\n",
            " [ 9 10]\n",
            " [11 12]]\n"
          ],
          "name": "stdout"
        }
      ]
    },
    {
      "cell_type": "code",
      "metadata": {
        "colab": {
          "base_uri": "https://localhost:8080/"
        },
        "id": "Zyol9FDY71j9",
        "outputId": "1fb1b650-bfc1-4ebf-e49f-20c8ce8e1c28"
      },
      "source": [
        "# Task2\r\n",
        "def function2():\r\n",
        "    #create 3D array (3,3,3)\r\n",
        "    #must data type should have float64\r\n",
        "    #array value should be satart from 10 and end with 36 (both included)\r\n",
        "    # Hint: dtype, reshape \r\n",
        "    \r\n",
        "    x = np.arange(1,28,dtype=np.float64).reshape((3,3,3))     #wrtie your code here\r\n",
        "    x = np.arange(10,37,dtype=np.float64).reshape((3,3,3))\r\n",
        "\r\n",
        "\r\n",
        "    return x\r\n",
        "    \"\"\"\r\n",
        "    Expected: out put\r\n",
        "array([[[10., 11., 12.],\r\n",
        "        [13., 14., 15.],\r\n",
        "        [16., 17., 18.]],\r\n",
        "\r\n",
        "       [[19., 20., 21.],\r\n",
        "        [22., 23., 24.],\r\n",
        "        [25., 26., 27.]],\r\n",
        "\r\n",
        "       [[28., 29., 30.],\r\n",
        "        [31., 32., 33.],\r\n",
        "        [34., 35., 36.]]])    \r\n",
        "    \"\"\"\r\n",
        "function2()"
      ],
      "execution_count": 4,
      "outputs": [
        {
          "output_type": "execute_result",
          "data": {
            "text/plain": [
              "array([[[10., 11., 12.],\n",
              "        [13., 14., 15.],\n",
              "        [16., 17., 18.]],\n",
              "\n",
              "       [[19., 20., 21.],\n",
              "        [22., 23., 24.],\n",
              "        [25., 26., 27.]],\n",
              "\n",
              "       [[28., 29., 30.],\n",
              "        [31., 32., 33.],\n",
              "        [34., 35., 36.]]])"
            ]
          },
          "metadata": {
            "tags": []
          },
          "execution_count": 4
        }
      ]
    },
    {
      "cell_type": "code",
      "metadata": {
        "colab": {
          "base_uri": "https://localhost:8080/"
        },
        "id": "761-8Une72pJ",
        "outputId": "314f1d92-862a-47d4-c769-40adce10292a"
      },
      "source": [
        "#task3\r\n",
        "def function3():\r\n",
        "    #extract those numbers from given array. those are must exist in 5,7 Table\r\n",
        "    #example [35,70,105,..]\r\n",
        "    a = np.arange(1, 100*10+1).reshape((100,10))\r\n",
        "    x =  a[(a%5==0) & (a%7==0)] #wrtie your code here\r\n",
        "    return x\r\n",
        "    \"\"\"\r\n",
        "    Expected Output:\r\n",
        "     [35,  70, 105, 140, 175, 210, 245, 280, 315, 350, 385, 420, 455,\r\n",
        "       490, 525, 560, 595, 630, 665, 700, 735, 770, 805, 840, 875, 910,\r\n",
        "       945, 980] \r\n",
        "    \"\"\" \r\n",
        "function3()"
      ],
      "execution_count": 5,
      "outputs": [
        {
          "output_type": "execute_result",
          "data": {
            "text/plain": [
              "array([ 35,  70, 105, 140, 175, 210, 245, 280, 315, 350, 385, 420, 455,\n",
              "       490, 525, 560, 595, 630, 665, 700, 735, 770, 805, 840, 875, 910,\n",
              "       945, 980])"
            ]
          },
          "metadata": {
            "tags": []
          },
          "execution_count": 5
        }
      ]
    },
    {
      "cell_type": "code",
      "metadata": {
        "colab": {
          "base_uri": "https://localhost:8080/"
        },
        "id": "SFrJtDBr78q3",
        "outputId": "b4cf025e-d248-46dd-8686-d5771dfc129d"
      },
      "source": [
        "#task4\r\n",
        "def function4():\r\n",
        "    #Swap columns 1 and 2 in the array arr.\r\n",
        "   \r\n",
        "    arr = np.arange(9).reshape(3,3)\r\n",
        "    arr[::,[0,1]]=arr[::,[1,0]]\r\n",
        "    \r\n",
        "  \r\n",
        "    return arr #wrtie your code here\r\n",
        "    \"\"\"\r\n",
        "    Expected Output:\r\n",
        "          array([[1, 0, 2],\r\n",
        "                [4, 3, 5],\r\n",
        "                [7, 6, 8]])\r\n",
        "    \"\"\" \r\n",
        "function4()"
      ],
      "execution_count": 6,
      "outputs": [
        {
          "output_type": "execute_result",
          "data": {
            "text/plain": [
              "array([[1, 0, 2],\n",
              "       [4, 3, 5],\n",
              "       [7, 6, 8]])"
            ]
          },
          "metadata": {
            "tags": []
          },
          "execution_count": 6
        }
      ]
    },
    {
      "cell_type": "code",
      "metadata": {
        "colab": {
          "base_uri": "https://localhost:8080/"
        },
        "id": "kci3lAD078nh",
        "outputId": "33e92e41-f50d-4a3c-aa2a-d803221c2480"
      },
      "source": [
        "#task5\r\n",
        "def function5():\r\n",
        "    #Create a null vector of size 20 with 4 rows and 5 columns with numpy function\r\n",
        "   \r\n",
        "    z = np.zeros((4,5))#wrtie your code here\r\n",
        "    z = z.astype(np.int32)\r\n",
        "  \r\n",
        "    return z\r\n",
        "    \"\"\"\r\n",
        "    Expected Output:\r\n",
        "          array([[0, 0, 0, 0, 0],\r\n",
        "                [0, 0, 0, 0, 0],\r\n",
        "                [0, 0, 0, 0, 0],\r\n",
        "                [0, 0, 0, 0, 0]])\r\n",
        "    \"\"\" \r\n",
        "function5()"
      ],
      "execution_count": 7,
      "outputs": [
        {
          "output_type": "execute_result",
          "data": {
            "text/plain": [
              "array([[0, 0, 0, 0, 0],\n",
              "       [0, 0, 0, 0, 0],\n",
              "       [0, 0, 0, 0, 0],\n",
              "       [0, 0, 0, 0, 0]], dtype=int32)"
            ]
          },
          "metadata": {
            "tags": []
          },
          "execution_count": 7
        }
      ]
    },
    {
      "cell_type": "code",
      "metadata": {
        "colab": {
          "base_uri": "https://localhost:8080/"
        },
        "id": "nip9mwrU78k8",
        "outputId": "2d7d203c-eb09-4484-8b2b-f2c167f2477f"
      },
      "source": [
        "#task6\r\n",
        "def function6():\r\n",
        "    # Create a null vector of size 10 but the fifth and eighth value which is 10,20 respectively\r\n",
        "   \r\n",
        "    arr = np.zeros([2,5])#wrtie your code here\r\n",
        "    arr = arr.astype(np.int32)\r\n",
        "    arr[0,4] = 10\r\n",
        "    arr[1,2] = 20\r\n",
        "    return arr\r\n",
        "\r\n",
        "function6()"
      ],
      "execution_count": 8,
      "outputs": [
        {
          "output_type": "execute_result",
          "data": {
            "text/plain": [
              "array([[ 0,  0,  0,  0, 10],\n",
              "       [ 0,  0, 20,  0,  0]], dtype=int32)"
            ]
          },
          "metadata": {
            "tags": []
          },
          "execution_count": 8
        }
      ]
    },
    {
      "cell_type": "code",
      "metadata": {
        "colab": {
          "base_uri": "https://localhost:8080/"
        },
        "id": "GwkSpOK578ih",
        "outputId": "c8774c1e-d9f7-452f-fe09-d97352a9d27e"
      },
      "source": [
        "def function7():\r\n",
        "    #  Create an array of zeros with the same shape and type as X. Dont use reshape method\r\n",
        "    x = np.arange(4, dtype=np.int64)\r\n",
        "    x[x>0] =0\r\n",
        "\r\n",
        "  \r\n",
        "    return x #write your code here\r\n",
        "\r\n",
        "    \"\"\"\r\n",
        "    Expected Output:\r\n",
        "          array([0, 0, 0, 0], dtype=int64)\r\n",
        "    \"\"\" \r\n",
        "function7()"
      ],
      "execution_count": 9,
      "outputs": [
        {
          "output_type": "execute_result",
          "data": {
            "text/plain": [
              "array([0, 0, 0, 0])"
            ]
          },
          "metadata": {
            "tags": []
          },
          "execution_count": 9
        }
      ]
    },
    {
      "cell_type": "code",
      "metadata": {
        "colab": {
          "base_uri": "https://localhost:8080/"
        },
        "id": "oQcNTBw278XI",
        "outputId": "514c21ed-7f54-4936-e573-00b26408dcf5"
      },
      "source": [
        "#task8\r\n",
        "def function8():\r\n",
        "    # Create a new array of 2x5 uints, filled with 6.\r\n",
        "    \r\n",
        "    x = np.ones((2,5))#write your code here\r\n",
        "    x = x.astype(np.int32)\r\n",
        "    x[x>0]=6\r\n",
        "  \r\n",
        "    return x\r\n",
        "    \"\"\"\r\n",
        "     Expected Output:\r\n",
        "              array([[6, 6, 6, 6, 6],\r\n",
        "                     [6, 6, 6, 6, 6]], dtype=uint32)\r\n",
        "     \"\"\"\r\n",
        "\r\n",
        "      \r\n",
        "function8()"
      ],
      "execution_count": 10,
      "outputs": [
        {
          "output_type": "execute_result",
          "data": {
            "text/plain": [
              "array([[6, 6, 6, 6, 6],\n",
              "       [6, 6, 6, 6, 6]], dtype=int32)"
            ]
          },
          "metadata": {
            "tags": []
          },
          "execution_count": 10
        }
      ]
    },
    {
      "cell_type": "code",
      "metadata": {
        "colab": {
          "base_uri": "https://localhost:8080/"
        },
        "id": "a7kcuDyJ78LD",
        "outputId": "1c9ade54-38e6-41d3-f1ab-9fa2fb38cac7"
      },
      "source": [
        "#task9\r\n",
        "def function9():\r\n",
        "    # Create an array of 2, 4, 6, 8, ..., 100.\r\n",
        "    \r\n",
        "    a = np.arange(2,101,2)# write your code here\r\n",
        "  \r\n",
        "    return a\r\n",
        "    \"\"\"\r\n",
        "     Expected Output:\r\n",
        "              array([  2,   4,   6,   8,  10,  12,  14,  16,  18,  20,  22,  24,  26,\r\n",
        "                    28,  30,  32,  34,  36,  38,  40,  42,  44,  46,  48,  50,  52,\r\n",
        "                    54,  56,  58,  60,  62,  64,  66,  68,  70,  72,  74,  76,  78,\r\n",
        "                    80,  82,  84,  86,  88,  90,  92,  94,  96,  98, 100])\r\n",
        "     \"\"\" \r\n",
        "\r\n",
        "     \r\n",
        "function9()"
      ],
      "execution_count": 11,
      "outputs": [
        {
          "output_type": "execute_result",
          "data": {
            "text/plain": [
              "array([  2,   4,   6,   8,  10,  12,  14,  16,  18,  20,  22,  24,  26,\n",
              "        28,  30,  32,  34,  36,  38,  40,  42,  44,  46,  48,  50,  52,\n",
              "        54,  56,  58,  60,  62,  64,  66,  68,  70,  72,  74,  76,  78,\n",
              "        80,  82,  84,  86,  88,  90,  92,  94,  96,  98, 100])"
            ]
          },
          "metadata": {
            "tags": []
          },
          "execution_count": 11
        }
      ]
    },
    {
      "cell_type": "code",
      "metadata": {
        "colab": {
          "base_uri": "https://localhost:8080/"
        },
        "id": "t8U7j_298UXB",
        "outputId": "35fae4e1-d8da-45d7-80b4-b7cdb44db463"
      },
      "source": [
        "#task10\r\n",
        "def function10():\r\n",
        "    # Subtract the 1d array brr from the 2d array arr, such that each item of brr subtracts from respective row of arr.\r\n",
        "    \r\n",
        "    arr = np.array([[3,3,3],[4,4,4],[5,5,5]])\r\n",
        "    brr = np.array([1,2,3])\r\n",
        "    subt = arr.T-brr# write your code here \r\n",
        "  \r\n",
        "    return subt\r\n",
        "    \"\"\"\r\n",
        "     Expected Output:\r\n",
        "               array([[2 2 2]\r\n",
        "                      [2 2 2]\r\n",
        "                      [2 2 2]])\r\n",
        "     \"\"\" \r\n",
        "\r\n",
        "     \r\n",
        "print(function10())"
      ],
      "execution_count": 12,
      "outputs": [
        {
          "output_type": "stream",
          "text": [
            "[[2 2 2]\n",
            " [2 2 2]\n",
            " [2 2 2]]\n"
          ],
          "name": "stdout"
        }
      ]
    },
    {
      "cell_type": "code",
      "metadata": {
        "colab": {
          "base_uri": "https://localhost:8080/"
        },
        "id": "0tLM1UkQ8UTp",
        "outputId": "bf60b6c9-13ee-4a2e-fc2e-60377e11d0ad"
      },
      "source": [
        "#task11\r\n",
        "def function11():\r\n",
        "    # Replace all odd numbers in arr with -1 without changing arr.\r\n",
        "    \r\n",
        "    arr = np.array([0, 1, 2, 3, 4, 5, 6, 7, 8, 9])\r\n",
        "    ans = np.where(arr%2!=0,-1,arr) #write your code here \r\n",
        "  \r\n",
        "    return ans\r\n",
        "    \"\"\"\r\n",
        "     Expected Output:\r\n",
        "              array([ 0, -1,  2, -1,  4, -1,  6, -1,  8, -1])\r\n",
        "     \"\"\"\r\n",
        "     \r\n",
        "function11()"
      ],
      "execution_count": 13,
      "outputs": [
        {
          "output_type": "execute_result",
          "data": {
            "text/plain": [
              "array([ 0, -1,  2, -1,  4, -1,  6, -1,  8, -1])"
            ]
          },
          "metadata": {
            "tags": []
          },
          "execution_count": 13
        }
      ]
    },
    {
      "cell_type": "code",
      "metadata": {
        "colab": {
          "base_uri": "https://localhost:8080/"
        },
        "id": "yt14Si708URX",
        "outputId": "0d0f11b5-2dc9-4165-88ef-8dcc8f61933f"
      },
      "source": [
        "#task12\r\n",
        "def function12():\r\n",
        "    # Create the following pattern without hardcoding. Use only numpy functions and the below input array arr.\r\n",
        "    # HINT: use stacking concept\r\n",
        "    \r\n",
        "    arr = np.array([1,2,3])\r\n",
        "    ans = np.r_[np.repeat(arr,3),np.tile(arr,3)]#write your code here \r\n",
        "     \r\n",
        "  \r\n",
        "    return ans\r\n",
        "\"\"\"\r\n",
        "     Expected Output:\r\n",
        "              array([1, 1, 1, 2, 2, 2, 3, 3, 3, 1, 2, 3, 1, 2, 3, 1, 2, 3])\r\n",
        "     \"\"\"\r\n",
        "      \r\n",
        "print(function12())"
      ],
      "execution_count": 14,
      "outputs": [
        {
          "output_type": "stream",
          "text": [
            "[1 1 1 2 2 2 3 3 3 1 2 3 1 2 3 1 2 3]\n"
          ],
          "name": "stdout"
        }
      ]
    },
    {
      "cell_type": "code",
      "metadata": {
        "colab": {
          "base_uri": "https://localhost:8080/"
        },
        "id": "TJAve96i8UPE",
        "outputId": "8b37b3dd-dd60-473c-ae50-1717dfa2b05e"
      },
      "source": [
        "#task13\r\n",
        "def function13():\r\n",
        "    # Set a condition which gets all items between 5 and 10 from arr.\r\n",
        "    \r\n",
        "    \r\n",
        "    arr = np.array([2, 6, 1, 9, 10, 3, 27])\r\n",
        "    ans = arr[(arr>5)&(arr<10)]#write your code here \r\n",
        "  \r\n",
        "    return ans\r\n",
        "    \"\"\"\r\n",
        "     Expected Output:\r\n",
        "              array([6, 9])\r\n",
        "     \"\"\"\r\n",
        "\r\n",
        "      \r\n",
        "function13()"
      ],
      "execution_count": 15,
      "outputs": [
        {
          "output_type": "execute_result",
          "data": {
            "text/plain": [
              "array([6, 9])"
            ]
          },
          "metadata": {
            "tags": []
          },
          "execution_count": 15
        }
      ]
    },
    {
      "cell_type": "code",
      "metadata": {
        "colab": {
          "base_uri": "https://localhost:8080/"
        },
        "id": "XAlYEEQH8UET",
        "outputId": "0b848fca-3d72-4456-c4f1-c715b46f7e27"
      },
      "source": [
        "#task14\r\n",
        "def function14():\r\n",
        "    # Create an 8X3 integer array from a range between 10 to 34 such that the difference between each element is 1 and then Split the array into four equal-sized sub-arrays.\r\n",
        "    # Hint use split method\r\n",
        "    \r\n",
        "    \r\n",
        "    arr = np.arange(10, 34, 1) #write reshape code\r\n",
        "    #ans = np.reshape((8,3))\r\n",
        "    \r\n",
        "    #ans = #write your code here \r\n",
        "    ans = arr.reshape(8,3)\r\n",
        "    ans = np.split(ans,[1,3,5,7])\r\n",
        "    return ans\r\n",
        "\"\"\"\"\r\n",
        "    Expected Output:\r\n",
        "    [array([[10, 11, 12],[13, 14, 15]]), \r\n",
        "    array([[16, 17, 18],[19, 20, 21]]), \r\n",
        "    array([[22, 23, 24],[25, 26, 27]]), \r\n",
        "    array([[28, 29, 30],[31, 32, 33]])]\r\n",
        "    \"\"\" \r\n",
        "     \r\n",
        "\r\n",
        "    \r\n",
        "print(function14())"
      ],
      "execution_count": 17,
      "outputs": [
        {
          "output_type": "stream",
          "text": [
            "[array([[10, 11, 12]]), array([[13, 14, 15],\n",
            "       [16, 17, 18]]), array([[19, 20, 21],\n",
            "       [22, 23, 24]]), array([[25, 26, 27],\n",
            "       [28, 29, 30]]), array([[31, 32, 33]])]\n"
          ],
          "name": "stdout"
        }
      ]
    },
    {
      "cell_type": "code",
      "metadata": {
        "colab": {
          "base_uri": "https://localhost:8080/"
        },
        "id": "-8Hszu4B8g9o",
        "outputId": "692377b6-bcd0-41eb-aefb-56852d2136cc"
      },
      "source": [
        "#task15\r\n",
        "def function15():\r\n",
        "    #Sort following NumPy array by the second column\r\n",
        "    \r\n",
        "    \r\n",
        "    arr = np.array([[ 8,  2, -2],[-4,  1,  7],[ 6,  3,  9]])\r\n",
        "    ans =  arr[np.argsort(arr[::,1])]#write your code here \r\n",
        "  \r\n",
        "    return ans\r\n",
        "\r\n",
        "\"\"\"\r\n",
        "     Expected Output:\r\n",
        "           array([[-4,  1,  7],\r\n",
        "                   [ 8,  2, -2],\r\n",
        "                   [ 6,  3,  9]])\r\n",
        "     \"\"\" \r\n",
        "function15()"
      ],
      "execution_count": 18,
      "outputs": [
        {
          "output_type": "execute_result",
          "data": {
            "text/plain": [
              "array([[-4,  1,  7],\n",
              "       [ 8,  2, -2],\n",
              "       [ 6,  3,  9]])"
            ]
          },
          "metadata": {
            "tags": []
          },
          "execution_count": 18
        }
      ]
    },
    {
      "cell_type": "code",
      "metadata": {
        "colab": {
          "base_uri": "https://localhost:8080/"
        },
        "id": "-ELC7Bsb8g6c",
        "outputId": "d56d35ea-c48d-4f5e-f959-4f860353a2a3"
      },
      "source": [
        "#task16\r\n",
        "def function16():\r\n",
        "    #Write a NumPy program to join a sequence of arrays along depth.\r\n",
        "    \r\n",
        "    \r\n",
        "    x = np.array([[1], [2], [3]])\r\n",
        "    y = np.array([[2], [3], [4]])\r\n",
        "    ans =  np.dstack((x,y))#write your code here \r\n",
        "  \r\n",
        "    return ans\r\n",
        "\"\"\"\r\n",
        "Expected Output:\r\n",
        "                [[[1 2]]\r\n",
        "\r\n",
        "                 [[2 3]]\r\n",
        "\r\n",
        "                 [[3 4]]]\r\n",
        "     \r\n",
        "     \"\"\"\r\n",
        "\r\n",
        "\r\n",
        "\r\n",
        "  \r\n",
        "print(function16())"
      ],
      "execution_count": 19,
      "outputs": [
        {
          "output_type": "stream",
          "text": [
            "[[[1 2]]\n",
            "\n",
            " [[2 3]]\n",
            "\n",
            " [[3 4]]]\n"
          ],
          "name": "stdout"
        }
      ]
    },
    {
      "cell_type": "code",
      "metadata": {
        "colab": {
          "base_uri": "https://localhost:8080/"
        },
        "id": "h0yg2xlQ8gtt",
        "outputId": "dfb3fa70-099f-49a9-c808-2316f5695519"
      },
      "source": [
        "def function17():\r\n",
        "    # replace numbers with \"YES\" if it divided by 3 and 5\r\n",
        "    # otherwise it will be replaced with \"NO\"\r\n",
        "    # Hint: np.where\r\n",
        "    arr = np.arange(1,10*10+1).reshape((10,10))\r\n",
        "    arr1=np.where((arr%3==0)&(arr%5==0),'YES','NO')\r\n",
        "    return  arr1        # Write Your Code HERE\r\n",
        "#Excpected Out\r\n",
        "\"\"\"\r\n",
        "array([['NO', 'NO', 'NO', 'NO', 'NO', 'NO', 'NO', 'NO', 'NO', 'NO'],\r\n",
        "       ['NO', 'NO', 'NO', 'NO', 'YES', 'NO', 'NO', 'NO', 'NO', 'NO'],\r\n",
        "       ['NO', 'NO', 'NO', 'NO', 'NO', 'NO', 'NO', 'NO', 'NO', 'YES'],\r\n",
        "       ['NO', 'NO', 'NO', 'NO', 'NO', 'NO', 'NO', 'NO', 'NO', 'NO'],\r\n",
        "       ['NO', 'NO', 'NO', 'NO', 'YES', 'NO', 'NO', 'NO', 'NO', 'NO'],\r\n",
        "       ['NO', 'NO', 'NO', 'NO', 'NO', 'NO', 'NO', 'NO', 'NO', 'YES'],\r\n",
        "       ['NO', 'NO', 'NO', 'NO', 'NO', 'NO', 'NO', 'NO', 'NO', 'NO'],\r\n",
        "       ['NO', 'NO', 'NO', 'NO', 'YES', 'NO', 'NO', 'NO', 'NO', 'NO'],\r\n",
        "       ['NO', 'NO', 'NO', 'NO', 'NO', 'NO', 'NO', 'NO', 'NO', 'YES'],\r\n",
        "       ['NO', 'NO', 'NO', 'NO', 'NO', 'NO', 'NO', 'NO', 'NO', 'NO']],\r\n",
        "      dtype='<U3')\r\n",
        "\"\"\"\r\n",
        "function17()"
      ],
      "execution_count": 20,
      "outputs": [
        {
          "output_type": "execute_result",
          "data": {
            "text/plain": [
              "array([['NO', 'NO', 'NO', 'NO', 'NO', 'NO', 'NO', 'NO', 'NO', 'NO'],\n",
              "       ['NO', 'NO', 'NO', 'NO', 'YES', 'NO', 'NO', 'NO', 'NO', 'NO'],\n",
              "       ['NO', 'NO', 'NO', 'NO', 'NO', 'NO', 'NO', 'NO', 'NO', 'YES'],\n",
              "       ['NO', 'NO', 'NO', 'NO', 'NO', 'NO', 'NO', 'NO', 'NO', 'NO'],\n",
              "       ['NO', 'NO', 'NO', 'NO', 'YES', 'NO', 'NO', 'NO', 'NO', 'NO'],\n",
              "       ['NO', 'NO', 'NO', 'NO', 'NO', 'NO', 'NO', 'NO', 'NO', 'YES'],\n",
              "       ['NO', 'NO', 'NO', 'NO', 'NO', 'NO', 'NO', 'NO', 'NO', 'NO'],\n",
              "       ['NO', 'NO', 'NO', 'NO', 'YES', 'NO', 'NO', 'NO', 'NO', 'NO'],\n",
              "       ['NO', 'NO', 'NO', 'NO', 'NO', 'NO', 'NO', 'NO', 'NO', 'YES'],\n",
              "       ['NO', 'NO', 'NO', 'NO', 'NO', 'NO', 'NO', 'NO', 'NO', 'NO']],\n",
              "      dtype='<U3')"
            ]
          },
          "metadata": {
            "tags": []
          },
          "execution_count": 20
        }
      ]
    },
    {
      "cell_type": "code",
      "metadata": {
        "colab": {
          "base_uri": "https://localhost:8080/"
        },
        "id": "r-E1bR3r8vaA",
        "outputId": "0965bf40-e40f-4acd-8a35-9768739f3350"
      },
      "source": [
        "#Task18\r\n",
        "def function18():\r\n",
        "    # count values of \"students\" are exist in \"piaic\"\r\n",
        "    piaic = np.arange(100)\r\n",
        "    students = np.array([5,20,50,200,301,7001])\r\n",
        "    x = 0 # Write you code Here\r\n",
        "    arr=[]\r\n",
        "    for i in range(len(students)):\r\n",
        "        arr.append(np.where(piaic==students[i])[0])\r\n",
        "        if len(arr[i])>0:\r\n",
        "            x=x+1\r\n",
        "    return x\r\n",
        " #Expected output: 3\r\n",
        "function18()"
      ],
      "execution_count": 21,
      "outputs": [
        {
          "output_type": "execute_result",
          "data": {
            "text/plain": [
              "3"
            ]
          },
          "metadata": {
            "tags": []
          },
          "execution_count": 21
        }
      ]
    },
    {
      "cell_type": "code",
      "metadata": {
        "colab": {
          "base_uri": "https://localhost:8080/"
        },
        "id": "9Ez07J6v8wkw",
        "outputId": "c874acd0-c6e0-45eb-9815-18bc701f2c0e"
      },
      "source": [
        "# Task19\r\n",
        "def function19():\r\n",
        "    #Create variable \"X\" from 1,25 (both are included) range values\r\n",
        "    #Convert \"X\" variable dimension into 5 rows and 5 columns\r\n",
        "    #Create one more variable \"W\" copy of \"X\"\r\n",
        "    #Swap \"W\" row and column axis (like transpose)\r\n",
        "    # then create variable \"b\" with value equal to 5\r\n",
        "    # Now return output as \"(X*W)+b:\r\n",
        "\r\n",
        "    X =np.arange(1,26).reshape(5,5)   # Write your code here\r\n",
        "    W =np.copy(X).T   # Write your code here\r\n",
        "    b =5   # Write your code here\r\n",
        "    output =(X*W)+b    # Write your code here\r\n",
        "    return output\r\n",
        "#expected output\r\n",
        "\"\"\"\"\r\n",
        "array([[  6,  17,  38,  69, 110],\r\n",
        "       [ 17,  54, 101, 158, 225],\r\n",
        "       [ 38, 101, 174, 257, 350],\r\n",
        "       [ 69, 158, 257, 366, 485],\r\n",
        "       [110, 225, 350, 485, 630]])\r\n",
        "       \"\"\"\r\n",
        "print(function19())"
      ],
      "execution_count": 22,
      "outputs": [
        {
          "output_type": "stream",
          "text": [
            "[[  6  17  38  69 110]\n",
            " [ 17  54 101 158 225]\n",
            " [ 38 101 174 257 350]\n",
            " [ 69 158 257 366 485]\n",
            " [110 225 350 485 630]]\n"
          ],
          "name": "stdout"
        }
      ]
    },
    {
      "cell_type": "code",
      "metadata": {
        "colab": {
          "base_uri": "https://localhost:8080/"
        },
        "id": "2SobjWMd80bq",
        "outputId": "0900c9a7-452e-432d-f9ba-4c32c2f31d7f"
      },
      "source": [
        "#Task20\r\n",
        "def function20():\r\n",
        "    #apply fuction \"abc\" on each value of Array \"X\"\r\n",
        "    x = np.arange(1,11)\r\n",
        "    def abc(x):\r\n",
        "        return x*2+3-2\r\n",
        "\r\n",
        "    return abc(x) #Write your Code here\r\n",
        "function20()\r\n",
        "#Expected Output: array([ 3,  5,  7,  9, 11, 13, 15, 17, 19, 21])\r\n",
        "#--------------------------X-----------------------------X-----------------------------X----------------------------X--------------------"
      ],
      "execution_count": 23,
      "outputs": [
        {
          "output_type": "execute_result",
          "data": {
            "text/plain": [
              "array([ 3,  5,  7,  9, 11, 13, 15, 17, 19, 21])"
            ]
          },
          "metadata": {
            "tags": []
          },
          "execution_count": 23
        }
      ]
    }
  ]
}